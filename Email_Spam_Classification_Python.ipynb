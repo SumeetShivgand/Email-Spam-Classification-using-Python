{
 "cells": [
  {
   "cell_type": "code",
   "execution_count": 31,
   "metadata": {},
   "outputs": [],
   "source": [
    "# Name: Sumeet Shivgand\n",
    "# Student Id: R00182850\n",
    "# Subject: Applied Machine Learning"
   ]
  },
  {
   "cell_type": "markdown",
   "metadata": {},
   "source": [
    "#### Importing Libraries"
   ]
  },
  {
   "cell_type": "code",
   "execution_count": 1,
   "metadata": {},
   "outputs": [],
   "source": [
    "import os\n",
    "import pandas as pd\n",
    "import numpy as np\n",
    "import nltk.classify.util\n",
    "from nltk.classify import NaiveBayesClassifier\n",
    "from nltk.corpus import movie_reviews\n",
    "from nltk.corpus import stopwords\n",
    "from nltk.tokenize import word_tokenize\n",
    "from sklearn.feature_extraction.text import CountVectorizer\n",
    "import string\n",
    "import itertools\n",
    "import matplotlib.pyplot as plt\n",
    "import seaborn as sns\n",
    "import collections\n",
    "from collections import Counter\n",
    "from sklearn.model_selection import train_test_split"
   ]
  },
  {
   "cell_type": "markdown",
   "metadata": {},
   "source": [
    "### Preprocessiong"
   ]
  },
  {
   "cell_type": "code",
   "execution_count": 32,
   "metadata": {},
   "outputs": [],
   "source": [
    "np.random.seed(850)"
   ]
  },
  {
   "cell_type": "code",
   "execution_count": 3,
   "metadata": {},
   "outputs": [],
   "source": [
    "rootdir = \"D:\\\\CIT\\\\Semester 2\\\\Applied Machine Learning\\\\Assignment 1\\\\enron1\"\n",
    "\n",
    "# Reading 'ham' emails and creating dataframe 'ham' (non-spam = 0)\n",
    "ham_list = []\n",
    "spam_list = []\n",
    "\n",
    "for directories, subdirs, files in os.walk(rootdir):\n",
    "    if(os.path.split(directories)[1] == 'ham'):\n",
    "        for filename in files:\n",
    "            with open(os.path.join(directories, filename), encoding= \"latin-1\") as f:\n",
    "                data = f.read()\n",
    "                ham_list.append(data)\n",
    "\n",
    "\n",
    "    if(os.path.split(directories)[1] == 'spam'):\n",
    "        for filename in files:\n",
    "            with open(os.path.join(directories, filename), encoding= \"latin-1\") as f:\n",
    "                data = f.read()\n",
    "                spam_list.append(data)         \n",
    "                \n",
    "\n",
    "ham = pd.DataFrame(ham_list, columns=[\"Emails\"])\n",
    "ham[\"target\"] = 0\n",
    "#print(ham)\n",
    "\n",
    "spam = pd.DataFrame(spam_list, columns=[\"Emails\"])\n",
    "spam[\"target\"] = 1\n",
    "#print(spam)              \n",
    "                \n",
    "                "
   ]
  },
  {
   "cell_type": "code",
   "execution_count": 4,
   "metadata": {},
   "outputs": [
    {
     "data": {
      "text/html": [
       "<div>\n",
       "<style scoped>\n",
       "    .dataframe tbody tr th:only-of-type {\n",
       "        vertical-align: middle;\n",
       "    }\n",
       "\n",
       "    .dataframe tbody tr th {\n",
       "        vertical-align: top;\n",
       "    }\n",
       "\n",
       "    .dataframe thead th {\n",
       "        text-align: right;\n",
       "    }\n",
       "</style>\n",
       "<table border=\"1\" class=\"dataframe\">\n",
       "  <thead>\n",
       "    <tr style=\"text-align: right;\">\n",
       "      <th></th>\n",
       "      <th>Emails</th>\n",
       "      <th>target</th>\n",
       "    </tr>\n",
       "  </thead>\n",
       "  <tbody>\n",
       "    <tr>\n",
       "      <th>0</th>\n",
       "      <td>Subject: from mrs . juliana\\ndear friend ,\\npl...</td>\n",
       "      <td>1</td>\n",
       "    </tr>\n",
       "    <tr>\n",
       "      <th>1</th>\n",
       "      <td>Subject: he ' s gone for the night\\nyou ' ve g...</td>\n",
       "      <td>1</td>\n",
       "    </tr>\n",
       "    <tr>\n",
       "      <th>2</th>\n",
       "      <td>Subject: cheap soft cialis tabs\\nthese pills a...</td>\n",
       "      <td>1</td>\n",
       "    </tr>\n",
       "    <tr>\n",
       "      <th>3</th>\n",
       "      <td>Subject: re : fbw , attention smallcap stox pl...</td>\n",
       "      <td>1</td>\n",
       "    </tr>\n",
       "    <tr>\n",
       "      <th>4</th>\n",
       "      <td>Subject: meeting tommorow at 11 - 00\\nremove\\n...</td>\n",
       "      <td>1</td>\n",
       "    </tr>\n",
       "  </tbody>\n",
       "</table>\n",
       "</div>"
      ],
      "text/plain": [
       "                                              Emails  target\n",
       "0  Subject: from mrs . juliana\\ndear friend ,\\npl...       1\n",
       "1  Subject: he ' s gone for the night\\nyou ' ve g...       1\n",
       "2  Subject: cheap soft cialis tabs\\nthese pills a...       1\n",
       "3  Subject: re : fbw , attention smallcap stox pl...       1\n",
       "4  Subject: meeting tommorow at 11 - 00\\nremove\\n...       1"
      ]
     },
     "execution_count": 4,
     "metadata": {},
     "output_type": "execute_result"
    }
   ],
   "source": [
    "#Merging both 'ham' and 'spam' dataset\n",
    "emails = pd.concat([ham, spam])\n",
    "emails.head(5)\n",
    "\n",
    "# Shuffle the data\n",
    "# The frac keyword argument specifies the fraction of rows to return in the random sample, so frac=1 means return \n",
    "#all rows (in random order). If you wish to shuffle your dataframe in-place and reset the index,reset_index(drop = true)\n",
    "# Here, specifying drop=True prevents .reset_index from creating a column containing the old index entries.\n",
    "\n",
    "emails = emails.sample(frac=1).reset_index(drop=True)\n",
    "emails.head()"
   ]
  },
  {
   "cell_type": "code",
   "execution_count": 5,
   "metadata": {},
   "outputs": [
    {
     "name": "stdout",
     "output_type": "stream",
     "text": [
      "(5172, 2)\n",
      "Index(['Emails', 'target'], dtype='object')\n",
      "(4994, 2)\n"
     ]
    },
    {
     "data": {
      "text/plain": [
       "Emails    0\n",
       "target    0\n",
       "dtype: int64"
      ]
     },
     "execution_count": 5,
     "metadata": {},
     "output_type": "execute_result"
    }
   ],
   "source": [
    "# Print the shape(Get the number of rows and columns)\n",
    "print(emails.shape)\n",
    "\n",
    "# Get the column names\n",
    "print(emails.columns)\n",
    "\n",
    "# Check for duplicates and remove them\n",
    "emails.drop_duplicates(inplace = True)\n",
    "print(emails.shape)\n",
    "\n",
    "# Show the number of missing (NAN, NaN, na) data for each column\n",
    "emails.isnull().sum()"
   ]
  },
  {
   "cell_type": "markdown",
   "metadata": {},
   "source": [
    "### Training and Test Splits"
   ]
  },
  {
   "cell_type": "code",
   "execution_count": 6,
   "metadata": {},
   "outputs": [
    {
     "name": "stdout",
     "output_type": "stream",
     "text": [
      "col_0   count\n",
      "target       \n",
      "0        2475\n",
      "1        1020\n",
      "col_0   count\n",
      "target       \n",
      "0        1056\n",
      "1         443\n"
     ]
    }
   ],
   "source": [
    "## Train and Test Splits\n",
    "\n",
    "X_train, X_test = train_test_split(emails, test_size=0.30, random_state=0)\n",
    "\n",
    "train_set = X_train\n",
    "test_set = X_test\n",
    "\n",
    "train_set.to_csv(r'C:\\\\Users\\\\shivgandsumeet\\\\train_set.csv',header = True)\n",
    "test_set.to_csv(r'C:\\\\Users\\\\shivgandsumeet\\\\test_set.csv', header = True)\n",
    "\n",
    "#print(type(train_set))\n",
    "#print(train_set.head())\n",
    "\n",
    "\n",
    "train_stats = pd.crosstab(index= train_set[\"target\"], columns=\"count\") \n",
    "print(train_stats)\n",
    "\n",
    "test_stats = pd.crosstab(index= test_set[\"target\"], columns=\"count\") \n",
    "print(test_stats)"
   ]
  },
  {
   "cell_type": "markdown",
   "metadata": {},
   "source": [
    "### Feature Extraction"
   ]
  },
  {
   "cell_type": "code",
   "execution_count": 7,
   "metadata": {},
   "outputs": [
    {
     "data": {
      "text/plain": [
       "0    [subject, mrs, juliana, dear, friend, please, ...\n",
       "1    [subject, gone, night, got, check, new, site, ...\n",
       "2    [subject, cheap, soft, cialis, tabs, pills, li...\n",
       "3    [subject, fbw, attention, smallcap, stox, play...\n",
       "4    [subject, meeting, tommorow, 11, 00, remove, h...\n",
       "Name: Emails, dtype: object"
      ]
     },
     "execution_count": 7,
     "metadata": {},
     "output_type": "execute_result"
    }
   ],
   "source": [
    "# Feature Extraction\n",
    "# Remove punctuation, stopwords and return clean text words\n",
    "\n",
    "def process_text(Emails):\n",
    "    nopunc = [char for char in Emails if char not in string.punctuation]\n",
    "    nopunc = ''.join(nopunc).split()\n",
    "    \n",
    "    clean_words = [word.lower() for word in nopunc if word.lower() not in stopwords.words('english')]\n",
    "    return clean_words\n",
    "\n",
    "# Show Tokenization (a list of tokens also called lemmas)\n",
    "emails['Emails'].head().apply(process_text)\n"
   ]
  },
  {
   "cell_type": "code",
   "execution_count": 8,
   "metadata": {},
   "outputs": [
    {
     "name": "stdout",
     "output_type": "stream",
     "text": [
      "50463\n",
      "CountVectorizer(analyzer='word', binary=False, decode_error='strict',\n",
      "                dtype=<class 'numpy.int64'>, encoding='utf-8',\n",
      "                input=<function process_text at 0x000001FCA01AA1E0>,\n",
      "                lowercase=True, max_df=1.0, max_features=None, min_df=1,\n",
      "                ngram_range=(1, 1), preprocessor=None, stop_words=None,\n",
      "                strip_accents=None, token_pattern='(?u)\\\\b\\\\w\\\\w+\\\\b',\n",
      "                tokenizer=None, vocabulary=None)\n",
      "(4994, 50463)\n"
     ]
    }
   ],
   "source": [
    "\n",
    "# Convert a collection of text to a matrix of tokens\n",
    "\n",
    "bagofwords = CountVectorizer(process_text).fit(emails['Emails'])\n",
    "print(len(bagofwords.vocabulary_))\n",
    "print(bagofwords)\n",
    "# After the counting, the term weighting and normalization can be done with TF-IDF, \n",
    "#using scikit-learn's TfidfTransformer.\n",
    "messages_bow = bagofwords.transform(emails['Emails'])\n",
    "#print(messages_bow)\n",
    "from sklearn.feature_extraction.text import TfidfTransformer\n",
    "tfidf_transformer=TfidfTransformer().fit(messages_bow)\n",
    "\n",
    "messages_tfidf=tfidf_transformer.transform(messages_bow)\n",
    "print(messages_tfidf.shape)\n",
    "\n"
   ]
  },
  {
   "cell_type": "markdown",
   "metadata": {},
   "source": [
    "### Exploratory Data Analysis"
   ]
  },
  {
   "cell_type": "code",
   "execution_count": 9,
   "metadata": {},
   "outputs": [
    {
     "name": "stdout",
     "output_type": "stream",
     "text": [
      "<class 'pandas.core.series.Series'>\n",
      "[('ect', 9350), ('subject', 5450), ('hou', 4896), ('enron', 4317), ('2000', 3049), ('please', 2195), ('com', 2064), ('gas', 2025), ('deal', 1976), ('3', 1920), ('1', 1857), ('meter', 1694), ('cc', 1590), ('hpl', 1583), ('2', 1567), ('pm', 1548), ('00', 1545), ('000', 1466), ('10', 1450), ('2001', 1342)]\n"
     ]
    },
    {
     "data": {
      "image/png": "[encoded data removed]",
      "text/plain": [
       "<Figure size 576x576 with 1 Axes>"
      ]
     },
     "metadata": {
      "needs_background": "light"
     },
     "output_type": "display_data"
    }
   ],
   "source": [
    "### Exploratory Data Analysis\n",
    "\n",
    "\n",
    "# Show Tokenization (a list of tokens also called lemmas)\n",
    "abc = train_set['Emails'].apply(process_text)\n",
    "print(type(abc))\n",
    "\n",
    "email_list = abc.values.tolist()\n",
    "#print(email_list)\n",
    "\n",
    "###############################\n",
    "\n",
    "\n",
    "final_list = list(itertools.chain.from_iterable(email_list))\n",
    "#print(final_list)\n",
    "############################\n",
    "\n",
    "word_counts = Counter(final_list)\n",
    "#top_20 = word_counts.most_common(20)\n",
    "#print(top_20)\n",
    "###########################\n",
    "\n",
    "wg = collections.Counter(final_list)\n",
    "top_20 = word_counts.most_common(20)\n",
    "print(top_20)\n",
    "wg.most_common(20)\n",
    "########################\n",
    "\n",
    "clean_wg = pd.DataFrame(wg.most_common(20),\n",
    "                             columns=['words', 'count'])\n",
    "\n",
    "clean_wg.head()\n",
    "#############################\n",
    "\n",
    "fig, ax = plt.subplots(figsize=(8, 8))\n",
    "\n",
    "# Plot horizontal bar graph\n",
    "clean_wg.sort_values(by='count').plot.barh(x='words',\n",
    "                      y='count',\n",
    "                      ax=ax,\n",
    "                      color=\"purple\")\n",
    "\n",
    "ax.set_title(\"Common Words Found in Emails (Including All Words)\")\n",
    "\n",
    "plt.show()"
   ]
  },
  {
   "cell_type": "code",
   "execution_count": 10,
   "metadata": {},
   "outputs": [
    {
     "data": {
      "text/plain": [
       "<matplotlib.axes._subplots.AxesSubplot at 0x1fca4237668>"
      ]
     },
     "execution_count": 10,
     "metadata": {},
     "output_type": "execute_result"
    },
    {
     "data": {
      "image/png": "[encoded data removed]",
      "text/plain": [
       "<Figure size 432x288 with 1 Axes>"
      ]
     },
     "metadata": {},
     "output_type": "display_data"
    }
   ],
   "source": [
    "#sns.countplot(emails['target'])\n",
    "sns.set(style=\"darkgrid\")\n",
    "sns.countplot( data=train_set, x=\"target\",hue = \"target\")"
   ]
  },
  {
   "cell_type": "markdown",
   "metadata": {},
   "source": [
    "### Supervised Classification"
   ]
  },
  {
   "cell_type": "code",
   "execution_count": 11,
   "metadata": {},
   "outputs": [],
   "source": [
    "# Split the data into 70% training and 30% testing\n",
    "\n",
    "X_train, X_test, y_train, y_test = train_test_split(messages_tfidf, emails['target'], test_size = 0.30, random_state = 0) "
   ]
  },
  {
   "cell_type": "code",
   "execution_count": 12,
   "metadata": {},
   "outputs": [
    {
     "data": {
      "text/plain": [
       "MultinomialNB(alpha=1.0, class_prior=None, fit_prior=True)"
      ]
     },
     "execution_count": 12,
     "metadata": {},
     "output_type": "execute_result"
    }
   ],
   "source": [
    "## Supervised Model Selection\n",
    "# Create and train the Naive Bayes Classifier\n",
    "from sklearn.naive_bayes import MultinomialNB\n",
    "classifier = MultinomialNB()\n",
    "classifier.fit(X_train, y_train)"
   ]
  },
  {
   "cell_type": "code",
   "execution_count": 13,
   "metadata": {},
   "outputs": [
    {
     "name": "stdout",
     "output_type": "stream",
     "text": [
      "Accuracy Score: \n",
      " 0.8579052701801201\n"
     ]
    },
    {
     "data": {
      "text/html": [
       "<div>\n",
       "<style scoped>\n",
       "    .dataframe tbody tr th:only-of-type {\n",
       "        vertical-align: middle;\n",
       "    }\n",
       "\n",
       "    .dataframe tbody tr th {\n",
       "        vertical-align: top;\n",
       "    }\n",
       "\n",
       "    .dataframe thead th {\n",
       "        text-align: right;\n",
       "    }\n",
       "</style>\n",
       "<table border=\"1\" class=\"dataframe\">\n",
       "  <thead>\n",
       "    <tr style=\"text-align: right;\">\n",
       "      <th></th>\n",
       "      <th>Predicted 0</th>\n",
       "      <th>Predicted 1</th>\n",
       "    </tr>\n",
       "  </thead>\n",
       "  <tbody>\n",
       "    <tr>\n",
       "      <th>Actual 0</th>\n",
       "      <td>1056</td>\n",
       "      <td>0</td>\n",
       "    </tr>\n",
       "    <tr>\n",
       "      <th>Actual 1</th>\n",
       "      <td>213</td>\n",
       "      <td>230</td>\n",
       "    </tr>\n",
       "  </tbody>\n",
       "</table>\n",
       "</div>"
      ],
      "text/plain": [
       "          Predicted 0  Predicted 1\n",
       "Actual 0         1056            0\n",
       "Actual 1          213          230"
      ]
     },
     "execution_count": 13,
     "metadata": {},
     "output_type": "execute_result"
    }
   ],
   "source": [
    "## Supervised Model Selection\n",
    "# Evaluate the model on the training data set\n",
    "from sklearn.metrics import classification_report, confusion_matrix, accuracy_score\n",
    "pred = classifier.predict(X_test)\n",
    "#print(classification_report(y_test, pred))\n",
    "print('Accuracy Score: \\n', accuracy_score(y_test, pred))\n",
    "confusion_test = confusion_matrix(y_test, pred)\n",
    "pd.DataFrame(data = confusion_test, columns = ['Predicted 0', 'Predicted 1'],\n",
    "            index = ['Actual 0', 'Actual 1'])\n",
    "\n",
    "#### We misclassify 237 spam messages as non-spam emails whereas we don't misclassify any non-spam message."
   ]
  },
  {
   "cell_type": "code",
   "execution_count": 14,
   "metadata": {},
   "outputs": [],
   "source": [
    "# Import pickle module to save the model to the disk\n",
    "import pickle\n",
    "with open('ClassifierNB_pickle','wb') as f:\n",
    "    pickle.dump(classifier,f)\n",
    "\n",
    "# load save model into python from disk\n",
    "#with open('ClassifierNB_pickle','rb') as f:\n",
    "#    cp = pickle.load(f)\n"
   ]
  },
  {
   "cell_type": "markdown",
   "metadata": {},
   "source": [
    "### Model Selection"
   ]
  },
  {
   "cell_type": "code",
   "execution_count": 25,
   "metadata": {},
   "outputs": [
    {
     "data": {
      "text/html": [
       "<div>\n",
       "<style scoped>\n",
       "    .dataframe tbody tr th:only-of-type {\n",
       "        vertical-align: middle;\n",
       "    }\n",
       "\n",
       "    .dataframe tbody tr th {\n",
       "        vertical-align: top;\n",
       "    }\n",
       "\n",
       "    .dataframe thead th {\n",
       "        text-align: right;\n",
       "    }\n",
       "</style>\n",
       "<table border=\"1\" class=\"dataframe\">\n",
       "  <thead>\n",
       "    <tr style=\"text-align: right;\">\n",
       "      <th></th>\n",
       "      <th>Accuracy</th>\n",
       "    </tr>\n",
       "  </thead>\n",
       "  <tbody>\n",
       "    <tr>\n",
       "      <th>0.05</th>\n",
       "      <td>0.977985</td>\n",
       "    </tr>\n",
       "  </tbody>\n",
       "</table>\n",
       "</div>"
      ],
      "text/plain": [
       "      Accuracy\n",
       "0.05  0.977985"
      ]
     },
     "execution_count": 25,
     "metadata": {},
     "output_type": "execute_result"
    },
    {
     "data": {
      "image/png": "[encoded data removed]",
      "text/plain": [
       "<Figure size 792x432 with 1 Axes>"
      ]
     },
     "metadata": {},
     "output_type": "display_data"
    }
   ],
   "source": [
    "#from sklearn.naive_bayes import MultinomialNB\n",
    "pred_scores = []\n",
    "for i in np.linspace(0.05, 1, num=20):\n",
    "    classifier = MultinomialNB(alpha=i)\n",
    "    classifier.fit(X_train, y_train)\n",
    "    pred = classifier.predict(X_test)\n",
    "    pred_scores.append((i, [accuracy_score(y_test,pred)]))\n",
    "df = pd.DataFrame.from_items(pred_scores,orient='index', columns=['Accuracy'])\n",
    "df.plot(figsize=(11,6))\n",
    "plt.title('Naive Bayes - MultinomialNB')\n",
    "\n",
    "df[df['Accuracy'] == df['Accuracy'].max()]"
   ]
  },
  {
   "cell_type": "code",
   "execution_count": 24,
   "metadata": {},
   "outputs": [
    {
     "data": {
      "text/html": [
       "<div>\n",
       "<style scoped>\n",
       "    .dataframe tbody tr th:only-of-type {\n",
       "        vertical-align: middle;\n",
       "    }\n",
       "\n",
       "    .dataframe tbody tr th {\n",
       "        vertical-align: top;\n",
       "    }\n",
       "\n",
       "    .dataframe thead th {\n",
       "        text-align: right;\n",
       "    }\n",
       "</style>\n",
       "<table border=\"1\" class=\"dataframe\">\n",
       "  <thead>\n",
       "    <tr style=\"text-align: right;\">\n",
       "      <th></th>\n",
       "      <th>Accuracy</th>\n",
       "    </tr>\n",
       "  </thead>\n",
       "  <tbody>\n",
       "    <tr>\n",
       "      <th>5</th>\n",
       "      <td>0.941294</td>\n",
       "    </tr>\n",
       "  </tbody>\n",
       "</table>\n",
       "</div>"
      ],
      "text/plain": [
       "   Accuracy\n",
       "5  0.941294"
      ]
     },
     "execution_count": 24,
     "metadata": {},
     "output_type": "execute_result"
    },
    {
     "data": {
      "image/png": "[encoded data removed]",
      "text/plain": [
       "<Figure size 792x432 with 1 Axes>"
      ]
     },
     "metadata": {},
     "output_type": "display_data"
    }
   ],
   "source": [
    "\n",
    "from sklearn.tree import DecisionTreeClassifier\n",
    "pred_scores = []\n",
    "\n",
    "for i in range(2,21):\n",
    "    dtc = DecisionTreeClassifier(min_samples_split=i, random_state=111)\n",
    "    dtc.fit(X_train, y_train)\n",
    "    pred = dtc.predict(X_test)\n",
    "    pred_scores.append((i, [accuracy_score(y_test,pred)]))\n",
    "df = pd.DataFrame.from_items(pred_scores,orient='index', columns=['Accuracy'])\n",
    "df.plot(figsize=(11,6))\n",
    "plt.title('Decision Tree')\n",
    "\n",
    "df[df['Accuracy'] == df['Accuracy'].max()]"
   ]
  },
  {
   "cell_type": "code",
   "execution_count": 17,
   "metadata": {},
   "outputs": [],
   "source": [
    "mnb = MultinomialNB(alpha=0.2)\n",
    "dtc = DecisionTreeClassifier(min_samples_split=7, random_state=111)\n",
    "\n",
    "clfs = {'NB': mnb, 'DT': dtc}\n",
    "\n",
    "def train_classifier(clf, X_train, y_train):    \n",
    "    clf.fit(X_train, y_train)\n",
    "\n",
    "def predict_labels(clf, messages_tfidf):\n",
    "    return (clf.predict(messages_tfidf))"
   ]
  },
  {
   "cell_type": "code",
   "execution_count": 18,
   "metadata": {},
   "outputs": [],
   "source": [
    "pred_scores = []\n",
    "for k,v in clfs.items():\n",
    "    train_classifier(v, X_train, y_train)\n",
    "    pred = predict_labels(v,X_test)\n",
    "    pred_scores.append((k, [accuracy_score(y_test,pred)]))"
   ]
  },
  {
   "cell_type": "code",
   "execution_count": 19,
   "metadata": {},
   "outputs": [
    {
     "name": "stderr",
     "output_type": "stream",
     "text": [
      "C:\\Users\\shivgandsumeet\\Anaconda3\\lib\\site-packages\\ipykernel_launcher.py:1: FutureWarning: from_items is deprecated. Please use DataFrame.from_dict(dict(items), ...) instead. DataFrame.from_dict(OrderedDict(items)) may be used to preserve the key order.\n",
      "  \"\"\"Entry point for launching an IPython kernel.\n"
     ]
    },
    {
     "data": {
      "text/html": [
       "<div>\n",
       "<style scoped>\n",
       "    .dataframe tbody tr th:only-of-type {\n",
       "        vertical-align: middle;\n",
       "    }\n",
       "\n",
       "    .dataframe tbody tr th {\n",
       "        vertical-align: top;\n",
       "    }\n",
       "\n",
       "    .dataframe thead th {\n",
       "        text-align: right;\n",
       "    }\n",
       "</style>\n",
       "<table border=\"1\" class=\"dataframe\">\n",
       "  <thead>\n",
       "    <tr style=\"text-align: right;\">\n",
       "      <th></th>\n",
       "      <th>Score</th>\n",
       "    </tr>\n",
       "  </thead>\n",
       "  <tbody>\n",
       "    <tr>\n",
       "      <th>NB</th>\n",
       "      <td>0.969980</td>\n",
       "    </tr>\n",
       "    <tr>\n",
       "      <th>DT</th>\n",
       "      <td>0.937959</td>\n",
       "    </tr>\n",
       "  </tbody>\n",
       "</table>\n",
       "</div>"
      ],
      "text/plain": [
       "       Score\n",
       "NB  0.969980\n",
       "DT  0.937959"
      ]
     },
     "execution_count": 19,
     "metadata": {},
     "output_type": "execute_result"
    }
   ],
   "source": [
    "df = pd.DataFrame.from_items(pred_scores,orient='index', columns=['Score'])\n",
    "df"
   ]
  },
  {
   "cell_type": "code",
   "execution_count": 20,
   "metadata": {},
   "outputs": [
    {
     "data": {
      "text/plain": [
       "<matplotlib.legend.Legend at 0x1fca49da048>"
      ]
     },
     "execution_count": 20,
     "metadata": {},
     "output_type": "execute_result"
    },
    {
     "data": {
      "image/png": "[encoded data removed]",
      "text/plain": [
       "<Figure size 792x432 with 1 Axes>"
      ]
     },
     "metadata": {},
     "output_type": "display_data"
    }
   ],
   "source": [
    "df.plot(kind='bar', ylim=(0.9,1.0), figsize=(11,6), align='center', colormap=\"Accent\")\n",
    "plt.xticks(np.arange(4), df.index)\n",
    "plt.ylabel('Accuracy Score')\n",
    "plt.xlabel('Model Comparison')\n",
    "plt.title('Distribution by Classifier')\n",
    "plt.legend(bbox_to_anchor=(1.05, 1), loc=2, borderaxespad=0.)"
   ]
  },
  {
   "cell_type": "markdown",
   "metadata": {},
   "source": [
    "### Model Evaluation"
   ]
  },
  {
   "cell_type": "code",
   "execution_count": 21,
   "metadata": {},
   "outputs": [
    {
     "name": "stdout",
     "output_type": "stream",
     "text": [
      "              precision    recall  f1-score   support\n",
      "\n",
      "           0       0.83      1.00      0.91      1056\n",
      "           1       1.00      0.52      0.68       443\n",
      "\n",
      "    accuracy                           0.86      1499\n",
      "   macro avg       0.92      0.76      0.80      1499\n",
      "weighted avg       0.88      0.86      0.84      1499\n",
      "\n"
     ]
    }
   ],
   "source": [
    "# Evaluate the model on the test data set\n",
    "from sklearn.metrics import classification_report, confusion_matrix, accuracy_score\n",
    "pred = classifier.predict(X_test)\n",
    "print(classification_report(y_test, pred))\n"
   ]
  },
  {
   "cell_type": "code",
   "execution_count": 33,
   "metadata": {},
   "outputs": [
    {
     "name": "stdout",
     "output_type": "stream",
     "text": [
      "\n",
      "Roc_auc_score for DecisionTree:  0.9226231701894794\n"
     ]
    },
    {
     "data": {
      "image/png": "[encoded data removed]",
      "text/plain": [
       "<Figure size 576x576 with 1 Axes>"
      ]
     },
     "metadata": {},
     "output_type": "display_data"
    },
    {
     "name": "stdout",
     "output_type": "stream",
     "text": [
      "Roc_auc_score for Naive Bayes(MultinimialNB):  0.9966118578562145\n"
     ]
    },
    {
     "data": {
      "image/png": "[encoded data removed]",
      "text/plain": [
       "<Figure size 576x576 with 1 Axes>"
      ]
     },
     "metadata": {},
     "output_type": "display_data"
    }
   ],
   "source": [
    "def model_evaluation():\n",
    "    print()\n",
    "    \n",
    "    import warnings\n",
    "    warnings.filterwarnings(\"ignore\")\n",
    "\n",
    "    # load libraries\n",
    "    from sklearn.datasets import make_classification\n",
    "    from sklearn.metrics import roc_curve, roc_auc_score\n",
    "    import matplotlib.pyplot as plt\n",
    "\n",
    "    # Create classifier\n",
    "    clf1 = DecisionTreeClassifier(); \n",
    "    clf2 = MultinomialNB();\n",
    "    \n",
    "    # Train model\n",
    "    clf1.fit(X_train, y_train); \n",
    "    clf2.fit(X_train, y_train);\n",
    "        \n",
    "    # Get predicted probabilities\n",
    "    y_score1 = clf1.predict_proba(X_test)[:,1]\n",
    "    y_score2 = clf2.predict_proba(X_test)[:,1]\n",
    "    \n",
    "    # Plot Receiving Operating Characteristic Curve\n",
    "    # Create true and false positive rates\n",
    "    false_positive_rate1, true_positive_rate1, threshold1 = roc_curve(y_test, y_score1)\n",
    "    false_positive_rate2, true_positive_rate2, threshold2 = roc_curve(y_test, y_score2)\n",
    "    #false_positive_rate3, true_positive_rate3, threshold3 = roc_curve(y_test, y_score3)\n",
    "    print('Roc_auc_score for DecisionTree: ', roc_auc_score(y_test, y_score1))\n",
    "    \n",
    "    \n",
    "    # Plot ROC curves\n",
    "    plt.subplots(1, figsize=(8,8))\n",
    "    plt.title('Receiver Operating Characteristic - DecisionTree')\n",
    "    plt.plot(false_positive_rate1, true_positive_rate1)\n",
    "    plt.plot([0, 1], ls=\"--\")\n",
    "    plt.plot([0, 0], [1, 0] , c=\".7\"), plt.plot([1, 1] , c=\".7\")\n",
    "    plt.ylabel('True Positive Rate(Sensitivity)')\n",
    "    plt.xlabel('False Positive Rate(1-Specificity)')\n",
    "    plt.show()\n",
    "\n",
    "    print('Roc_auc_score for Naive Bayes(MultinimialNB): ', roc_auc_score(y_test, y_score2))\n",
    "    plt.subplots(1, figsize=(8,8))\n",
    "    plt.title('Receiver Operating Characteristic - Naive Bayes - MultinomialNB')\n",
    "    plt.plot(false_positive_rate2, true_positive_rate2)\n",
    "    plt.plot([0, 1], ls=\"--\")\n",
    "    plt.plot([0, 0], [1, 0] , c=\".7\"), plt.plot([1, 1] , c=\".7\")\n",
    "    plt.ylabel('True Positive Rate(Sensitivity)')\n",
    "    plt.xlabel('False Positive Rate(1-Specificity)')\n",
    "    plt.show()\n",
    "    \n",
    "model_evaluation()"
   ]
  },
  {
   "cell_type": "code",
   "execution_count": null,
   "metadata": {},
   "outputs": [],
   "source": []
  }
 ],
 "metadata": {
  "kernelspec": {
   "display_name": "Python 3",
   "language": "python",
   "name": "python3"
  },
  "language_info": {
   "codemirror_mode": {
    "name": "ipython",
    "version": 3
   },
   "file_extension": ".py",
   "mimetype": "text/x-python",
   "name": "python",
   "nbconvert_exporter": "python",
   "pygments_lexer": "ipython3",
   "version": "3.7.3"
  }
 },
 "nbformat": 4,
 "nbformat_minor": 2
}
